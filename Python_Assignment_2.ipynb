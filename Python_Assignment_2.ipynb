{
 "cells": [
  {
   "cell_type": "markdown",
   "id": "d8bacede",
   "metadata": {},
   "source": [
    "1) What are the two values of the Boolean data type? How do you write them?"
   ]
  },
  {
   "cell_type": "markdown",
   "id": "2c4b74cc",
   "metadata": {},
   "source": [
    "True and False are the two values of the Boolean data types, we write using capital T and F, with the rest of the word in lowercase"
   ]
  },
  {
   "cell_type": "code",
   "execution_count": 1,
   "id": "8d7fd5c9",
   "metadata": {},
   "outputs": [
    {
     "data": {
      "text/plain": [
       "True"
      ]
     },
     "execution_count": 1,
     "metadata": {},
     "output_type": "execute_result"
    }
   ],
   "source": [
    "True"
   ]
  },
  {
   "cell_type": "code",
   "execution_count": 2,
   "id": "b8c4a59e",
   "metadata": {},
   "outputs": [
    {
     "data": {
      "text/plain": [
       "False"
      ]
     },
     "execution_count": 2,
     "metadata": {},
     "output_type": "execute_result"
    }
   ],
   "source": [
    "False"
   ]
  },
  {
   "cell_type": "markdown",
   "id": "d3611cc8",
   "metadata": {},
   "source": [
    "  "
   ]
  },
  {
   "cell_type": "markdown",
   "id": "6af4f234",
   "metadata": {},
   "source": [
    "2)What are the three different types of Boolean operators?"
   ]
  },
  {
   "cell_type": "markdown",
   "id": "f1441046",
   "metadata": {},
   "source": [
    "and, or, and not are the three different types of Boolean operators?"
   ]
  },
  {
   "cell_type": "markdown",
   "id": "d7f6bcaa",
   "metadata": {},
   "source": [
    " "
   ]
  },
  {
   "cell_type": "markdown",
   "id": "fd2e9e16",
   "metadata": {},
   "source": [
    "3) Make a list of each Boolean operator&#39;s truth tables (i.e. every possible combination of Boolean\n",
    "values for the operator and what it evaluate )."
   ]
  },
  {
   "cell_type": "markdown",
   "id": "8c9a6a3c",
   "metadata": {},
   "source": [
    "\n",
    "True or True is True.\n",
    "\n",
    "True or False is True.\n",
    "\n",
    "False or True is True.\n",
    "\n",
    "False or False is False.\n",
    "\n",
    "True and True is True.\n",
    "\n",
    "True and False is False.\n",
    "\n",
    "False and True is False.\n",
    "\n",
    "False and False is False.\n",
    "\n",
    "not True is False.\n",
    "\n",
    "not False is True.\n"
   ]
  },
  {
   "cell_type": "markdown",
   "id": "7897bfde",
   "metadata": {},
   "source": [
    "4) What do the following expressions evaluate to?\n",
    "\n",
    "(5 > 4) and (3 == 5)\n",
    "\n",
    "not (5 > 4)\n",
    "\n",
    "(5 > 4) or (3 == 5)\n",
    "\n",
    "not ((5 > 4) or (3 == 5))\n",
    "\n",
    "(True and True) and (True == False)\n",
    "\n",
    "(not False) or (not True)"
   ]
  },
  {
   "cell_type": "code",
   "execution_count": 3,
   "id": "51c8786b",
   "metadata": {},
   "outputs": [
    {
     "name": "stdout",
     "output_type": "stream",
     "text": [
      "\n",
      "(5 > 4) and (3 == 5)                => False\n",
      "\n",
      "not (5 > 4)                         => False\n",
      "\n",
      "(5 > 4) or (3 == 5)                 => True\n",
      "\n",
      "not ((5 > 4) or (3 == 5))           => False\n",
      "\n",
      "(True and True) and (True == False) => False\n",
      "\n",
      "(not False) or (not True)           => True \n"
     ]
    }
   ],
   "source": [
    "print(f'''\n",
    "(5 > 4) and (3 == 5)                => {(5 > 4) and (3 == 5)}\n",
    "\n",
    "not (5 > 4)                         => {not (5 > 4)}\n",
    "\n",
    "(5 > 4) or (3 == 5)                 => {(5 > 4) or (3 == 5)}\n",
    "\n",
    "not ((5 > 4) or (3 == 5))           => {not ((5 > 4) or (3 == 5))}\n",
    "\n",
    "(True and True) and (True == False) => {(True and True) and (True == False)}\n",
    "\n",
    "(not False) or (not True)           => {(not False) or (not True) } ''')"
   ]
  },
  {
   "cell_type": "markdown",
   "id": "ebe92ffe",
   "metadata": {},
   "source": [
    " "
   ]
  },
  {
   "cell_type": "markdown",
   "id": "dad86b3c",
   "metadata": {},
   "source": [
    " "
   ]
  },
  {
   "cell_type": "markdown",
   "id": "19e610e4",
   "metadata": {},
   "source": [
    "5)What are the six comparison operators?"
   ]
  },
  {
   "cell_type": "markdown",
   "id": "30357e52",
   "metadata": {},
   "source": [
    "== Equal x == y\n",
    "\n",
    "!= Not equal x != y\n",
    "\n",
    "> Greater than x > y\n",
    "\n",
    "< Less than x < y\n",
    "\n",
    ">= Greater than or equal to x >= y\n",
    "\n",
    "<= Less than or equal to x <= y"
   ]
  },
  {
   "cell_type": "markdown",
   "id": "6cfdd01a",
   "metadata": {},
   "source": [
    " "
   ]
  },
  {
   "cell_type": "markdown",
   "id": "068b4854",
   "metadata": {},
   "source": [
    "6) How do you tell the difference between the equal to and assignment operators?Describe a\n",
    "condition and when you would use one."
   ]
  },
  {
   "cell_type": "markdown",
   "id": "d2d75db5",
   "metadata": {},
   "source": [
    "== is the equal to operator that compares two values and evaluates to a Boolean, while = is the assignment operator that stores a value in a variable."
   ]
  },
  {
   "cell_type": "code",
   "execution_count": 4,
   "id": "793bf9f8",
   "metadata": {},
   "outputs": [
    {
     "name": "stdout",
     "output_type": "stream",
     "text": [
      "== operation True\n"
     ]
    },
    {
     "data": {
      "text/plain": [
       "1"
      ]
     },
     "execution_count": 4,
     "metadata": {},
     "output_type": "execute_result"
    }
   ],
   "source": [
    "print(f\"== operation {1==1}\")\n",
    "a=1\n",
    "a"
   ]
  },
  {
   "cell_type": "markdown",
   "id": "4b244b5c",
   "metadata": {},
   "source": [
    " "
   ]
  },
  {
   "cell_type": "code",
   "execution_count": null,
   "id": "ee2063ee",
   "metadata": {},
   "outputs": [],
   "source": [
    "# 7)Identify the three blocks in this code:\n",
    "\n",
    "spam = 0\n",
    "if spam == 10:\n",
    "print('eggs')\n",
    "if spam > 5:\n",
    "print('bacon')\n",
    "else:\n",
    "print('ham')\n",
    "print('spam')\n",
    "print('spam')"
   ]
  },
  {
   "cell_type": "code",
   "execution_count": 5,
   "id": "d685c09f",
   "metadata": {},
   "outputs": [
    {
     "name": "stdout",
     "output_type": "stream",
     "text": [
      "ham\n",
      "spam\n"
     ]
    }
   ],
   "source": [
    "#The three blocks are everything inside the if statement and the lines print('bacon') and print('ham').\n",
    "spam = 0\n",
    "if spam == 10:\n",
    "    print('eggs')\n",
    "if spam > 5:\n",
    "    print('bacon')\n",
    "else:\n",
    "    print('ham')\n",
    "    print('spam')"
   ]
  },
  {
   "cell_type": "markdown",
   "id": "071949ff",
   "metadata": {},
   "source": [
    "8)Write code that prints Hello if 1 is stored in spam, prints Howdy if 2 is stored in spam, and prints Greetings! if anything else is stored in spam."
   ]
  },
  {
   "cell_type": "code",
   "execution_count": 6,
   "id": "282a271a",
   "metadata": {},
   "outputs": [
    {
     "name": "stdout",
     "output_type": "stream",
     "text": [
      "Greetings!\n"
     ]
    }
   ],
   "source": [
    "if spam == 1:\n",
    "    print('Hello')\n",
    "elif spam == 2:\n",
    "    print('Howdy')\n",
    "else:\n",
    "    print('Greetings!')"
   ]
  },
  {
   "cell_type": "markdown",
   "id": "afd4f989",
   "metadata": {},
   "source": [
    "9)If your programme is stuck in an endless loop, what keys you’ll press?"
   ]
  },
  {
   "cell_type": "markdown",
   "id": "57f309f1",
   "metadata": {},
   "source": [
    "Press CTRL-C to stop a program stuck in an infinite loop."
   ]
  },
  {
   "cell_type": "markdown",
   "id": "de25624e",
   "metadata": {},
   "source": [
    " "
   ]
  },
  {
   "cell_type": "markdown",
   "id": "8f39e23b",
   "metadata": {},
   "source": [
    "10)How can you tell the difference between break and continue?"
   ]
  },
  {
   "cell_type": "markdown",
   "id": "58ca64c1",
   "metadata": {},
   "source": [
    "The break statement will move the execution outside and just after a loop. The continue statement will move the execution to the start of the loop."
   ]
  },
  {
   "cell_type": "markdown",
   "id": "013524e4",
   "metadata": {},
   "source": [
    " "
   ]
  },
  {
   "cell_type": "markdown",
   "id": "1d09df4e",
   "metadata": {},
   "source": [
    "11) What is the difference between range(10), range(0, 10), and range(0, 10, 1) in a for loop?"
   ]
  },
  {
   "cell_type": "markdown",
   "id": "fc94eabc",
   "metadata": {},
   "source": [
    "They all do the same thing. \n",
    "\n",
    "The range(10) call ranges from 0 up to 9\n",
    "\n",
    "range(0, 10) explicitly tells the loop to start at 0 to 9\n",
    "\n",
    "range(0, 10, 1) explicitly tells the loop to increase the variable by 1 on each iteration."
   ]
  },
  {
   "cell_type": "code",
   "execution_count": 7,
   "id": "c6f9f140",
   "metadata": {},
   "outputs": [
    {
     "name": "stdout",
     "output_type": "stream",
     "text": [
      "\n",
      " range(10)\n",
      "0 1 2 3 4 5 6 7 8 9 \n",
      "\n",
      " range(0,10)\n",
      "0 1 2 3 4 5 6 7 8 9 \n",
      "\n",
      " range(0,10,1)\n",
      "0 1 2 3 4 5 6 7 8 9 "
     ]
    }
   ],
   "source": [
    "print(\"\\n range(10)\")\n",
    "for i in range(10):\n",
    "    print(i , end=\" \")\n",
    "print(\"\\n\\n range(0,10)\")\n",
    "for i in range(0,10):\n",
    "    print(i, end=\" \")\n",
    "print(\"\\n\\n range(0,10,1)\")\n",
    "for i in range(0,10,1):\n",
    "    print(i,end=\" \")\n",
    "    "
   ]
  },
  {
   "cell_type": "markdown",
   "id": "c65f752d",
   "metadata": {},
   "source": [
    "12)Write a short program that prints the numbers 1 to 10 using a for loop. Then write an equivalent\n",
    "program that prints the numbers 1 to 10 using a while loop."
   ]
  },
  {
   "cell_type": "code",
   "execution_count": 8,
   "id": "42c2a5ff",
   "metadata": {},
   "outputs": [
    {
     "name": "stdout",
     "output_type": "stream",
     "text": [
      "From for loop\n",
      "1 2 3 4 5 6 7 8 9 10 \n",
      "\n",
      "From While loop\n",
      "1 2 3 4 5 6 7 8 9 10 "
     ]
    }
   ],
   "source": [
    "print(\"From for loop\")\n",
    "for i in range(1, 11):\n",
    "    print(i,end=\" \")\n",
    "i = 1\n",
    "print(\"\\n\\nFrom While loop\")\n",
    "while i <= 10:\n",
    "    print(i,end=\" \")\n",
    "    i = i + 1"
   ]
  },
  {
   "cell_type": "markdown",
   "id": "7c482f5a",
   "metadata": {},
   "source": [
    "13)If you had a function named bacon() inside a module named spam, how would you call it after\n",
    "importing spam?"
   ]
  },
  {
   "cell_type": "markdown",
   "id": "ea72fd86",
   "metadata": {},
   "source": [
    "This function can be called with spam.bacon()."
   ]
  },
  {
   "cell_type": "code",
   "execution_count": null,
   "id": "05df9b98",
   "metadata": {},
   "outputs": [],
   "source": []
  },
  {
   "cell_type": "code",
   "execution_count": null,
   "id": "be392795",
   "metadata": {},
   "outputs": [],
   "source": []
  }
 ],
 "metadata": {
  "kernelspec": {
   "display_name": "Python 3 (ipykernel)",
   "language": "python",
   "name": "python3"
  },
  "language_info": {
   "codemirror_mode": {
    "name": "ipython",
    "version": 3
   },
   "file_extension": ".py",
   "mimetype": "text/x-python",
   "name": "python",
   "nbconvert_exporter": "python",
   "pygments_lexer": "ipython3",
   "version": "3.9.13"
  }
 },
 "nbformat": 4,
 "nbformat_minor": 5
}
