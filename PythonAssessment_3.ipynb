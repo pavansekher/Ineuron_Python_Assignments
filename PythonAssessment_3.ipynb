{
 "cells": [
  {
   "cell_type": "markdown",
   "id": "2b6bf278",
   "metadata": {},
   "source": [
    "1)Why are functions advantageous to have in your programs?"
   ]
  },
  {
   "cell_type": "markdown",
   "id": "1ab318d6",
   "metadata": {},
   "source": [
    "With the help of functions, we can avoid rewriting the same logic or code again and again in a program. In a single Program, we can call Python functions anywhere and also call multiple times. We can track a large Python program easily when it is divided into multiple functions.Functions reduce the need for duplicate code. This makes programs shorter, easier to read, and easier to update."
   ]
  },
  {
   "cell_type": "markdown",
   "id": "266945e1",
   "metadata": {},
   "source": [
    " "
   ]
  },
  {
   "cell_type": "markdown",
   "id": "57a94b79",
   "metadata": {},
   "source": [
    "2)When does the code in a function run: when it&#39;s specified or when it&#39;s called?"
   ]
  },
  {
   "cell_type": "markdown",
   "id": "284588ef",
   "metadata": {},
   "source": [
    "The code in a function executes when the function is called, not when the function is defined."
   ]
  },
  {
   "cell_type": "markdown",
   "id": "7fcb3575",
   "metadata": {},
   "source": [
    "3)What statement creates a function?"
   ]
  },
  {
   "cell_type": "code",
   "execution_count": 1,
   "id": "1c566f7f",
   "metadata": {},
   "outputs": [
    {
     "name": "stdout",
     "output_type": "stream",
     "text": [
      "function is called\n"
     ]
    }
   ],
   "source": [
    "#The def statement defines create a function.\n",
    "def function1():\n",
    "    print(\"function is called\")\n",
    "function1()    "
   ]
  },
  {
   "cell_type": "markdown",
   "id": "1009dee0",
   "metadata": {},
   "source": [
    " "
   ]
  },
  {
   "cell_type": "markdown",
   "id": "9c09d2ce",
   "metadata": {},
   "source": [
    "4) What is the difference between a function and a function call?"
   ]
  },
  {
   "cell_type": "markdown",
   "id": "f5197a4d",
   "metadata": {},
   "source": [
    "A function consists of the def statement and the code in its def clause.\n",
    "\n",
    "A function call is what moves the program execution into the function, and the function call evaluates to the function's return value."
   ]
  },
  {
   "cell_type": "markdown",
   "id": "6f49b638",
   "metadata": {},
   "source": [
    " "
   ]
  },
  {
   "cell_type": "markdown",
   "id": "f5571687",
   "metadata": {},
   "source": [
    "5)How many global scopes are there in a Python program? How many local scopes?"
   ]
  },
  {
   "cell_type": "markdown",
   "id": "a4e9c843",
   "metadata": {},
   "source": [
    "There is one global scope, and a local scope is created whenever a function is called."
   ]
  },
  {
   "cell_type": "markdown",
   "id": "73f80ae4",
   "metadata": {},
   "source": [
    " "
   ]
  },
  {
   "cell_type": "markdown",
   "id": "6303a5f1",
   "metadata": {},
   "source": [
    "6)What happens to variables in a local scope when the function call returns?"
   ]
  },
  {
   "cell_type": "markdown",
   "id": "64f19e89",
   "metadata": {},
   "source": [
    "When a function returns, the local scope is destroyed, and all the variables in it are forgotten."
   ]
  },
  {
   "cell_type": "markdown",
   "id": "a3213ec7",
   "metadata": {},
   "source": [
    " "
   ]
  },
  {
   "cell_type": "markdown",
   "id": "120e2ff3",
   "metadata": {},
   "source": [
    "7)What is the concept of a return value? Is it possible to have a return value in an expression?"
   ]
  },
  {
   "cell_type": "markdown",
   "id": "95ea28fc",
   "metadata": {},
   "source": [
    "A return value is the value that a function call evaluates and returns output, Yes return value can be used as part of an expression."
   ]
  },
  {
   "cell_type": "markdown",
   "id": "b965a91f",
   "metadata": {},
   "source": [
    " "
   ]
  },
  {
   "cell_type": "markdown",
   "id": "fe5ea3ec",
   "metadata": {},
   "source": [
    "8)If a function does not have a return statement, what is the return value of a call to that function?"
   ]
  },
  {
   "cell_type": "code",
   "execution_count": 2,
   "id": "6601e8e0",
   "metadata": {},
   "outputs": [
    {
     "name": "stdout",
     "output_type": "stream",
     "text": [
      " output type of function_returns is <class 'int'> \n",
      " output type of function_not_returns is <class 'NoneType'>\n"
     ]
    }
   ],
   "source": [
    "#if there is no return statement for a function, its return value is None.\n",
    "def function_returns():\n",
    "    return (1)\n",
    "def function_not_returns():\n",
    "    pass\n",
    "print(f\" output type of function_returns is {type(function_returns())} \\n output type of function_not_returns is {type(function_not_returns())}\")"
   ]
  },
  {
   "cell_type": "markdown",
   "id": "f629fe64",
   "metadata": {},
   "source": [
    "9)How do you make a function variable refer to the global variable?\n"
   ]
  },
  {
   "cell_type": "markdown",
   "id": "9409b6c9",
   "metadata": {},
   "source": [
    "Normally, when you create a variable inside a function, that variable is local, and can only be used inside that function. To create a global variable inside a function, you can use the global keyword.\n"
   ]
  },
  {
   "cell_type": "code",
   "execution_count": 3,
   "id": "4e4bb02d",
   "metadata": {},
   "outputs": [
    {
     "name": "stdout",
     "output_type": "stream",
     "text": [
      "1 4\n"
     ]
    }
   ],
   "source": [
    "a=1\n",
    "b=2\n",
    "def function():\n",
    "    a=3\n",
    "    global b\n",
    "    b=4\n",
    "function()\n",
    "print(a,b)\n",
    "\n",
    "#Here a value is not updated since it is not global where as b values is updated"
   ]
  },
  {
   "cell_type": "markdown",
   "id": "2ba9e12c",
   "metadata": {},
   "source": [
    "10)What is the data type of None?"
   ]
  },
  {
   "cell_type": "markdown",
   "id": "596cb137",
   "metadata": {},
   "source": [
    "The data type of None is NoneType."
   ]
  },
  {
   "cell_type": "markdown",
   "id": "5c83a690",
   "metadata": {},
   "source": [
    "11) What does the sentence import areallyourpetsnamederic do?"
   ]
  },
  {
   "cell_type": "markdown",
   "id": "c8ca36aa",
   "metadata": {},
   "source": [
    "That import statement imports a module named\n",
    "areallyourpetsnamederic isn't a real Python and get an error ModuleNotFoundError: No module named 'areallyourpetsnamederic'"
   ]
  },
  {
   "cell_type": "code",
   "execution_count": 4,
   "id": "bc87d7f2",
   "metadata": {},
   "outputs": [
    {
     "ename": "ModuleNotFoundError",
     "evalue": "No module named 'areallyourpetsnamederic'",
     "output_type": "error",
     "traceback": [
      "\u001b[1;31m---------------------------------------------------------------------------\u001b[0m",
      "\u001b[1;31mModuleNotFoundError\u001b[0m                       Traceback (most recent call last)",
      "\u001b[1;32m~\\AppData\\Local\\Temp\\ipykernel_5132\\51184242.py\u001b[0m in \u001b[0;36m<module>\u001b[1;34m\u001b[0m\n\u001b[1;32m----> 1\u001b[1;33m \u001b[1;32mimport\u001b[0m \u001b[0mareallyourpetsnamederic\u001b[0m\u001b[1;33m\u001b[0m\u001b[1;33m\u001b[0m\u001b[0m\n\u001b[0m",
      "\u001b[1;31mModuleNotFoundError\u001b[0m: No module named 'areallyourpetsnamederic'"
     ]
    }
   ],
   "source": [
    "import areallyourpetsnamederic"
   ]
  },
  {
   "cell_type": "markdown",
   "id": "33414334",
   "metadata": {},
   "source": [
    "12)If you had a bacon() feature in a spam module, what would you call it after importing spam?"
   ]
  },
  {
   "cell_type": "markdown",
   "id": "afa6a23e",
   "metadata": {},
   "source": [
    "This function can be called with spam.bacon()."
   ]
  },
  {
   "cell_type": "markdown",
   "id": "ec6f2f7d",
   "metadata": {},
   "source": [
    "13)What can you do to save a programme from crashing if it encounters an error?"
   ]
  },
  {
   "cell_type": "code",
   "execution_count": 5,
   "id": "41a8ed35",
   "metadata": {},
   "outputs": [
    {
     "name": "stdout",
     "output_type": "stream",
     "text": [
      "An exception occurred\n"
     ]
    }
   ],
   "source": [
    "#Place the line of code that might cause an error in a try clause.\n",
    "\n",
    "try:\n",
    "    a=10/0\n",
    "except:\n",
    "    print(\"An exception occurred\")"
   ]
  },
  {
   "cell_type": "markdown",
   "id": "a83cee5c",
   "metadata": {},
   "source": [
    "14)What is the purpose of the try clause? What is the purpose of the except clause?"
   ]
  },
  {
   "cell_type": "markdown",
   "id": "32da2964",
   "metadata": {},
   "source": [
    "The code that could potentially cause an error goes in the try clause. The try block lets you test a block of code for errors.\n",
    "\n",
    "\n",
    "The code that executes if an error happens goes in the except clause. The except block lets you handle the error. "
   ]
  },
  {
   "cell_type": "code",
   "execution_count": 6,
   "id": "f20dc68b",
   "metadata": {},
   "outputs": [
    {
     "name": "stdout",
     "output_type": "stream",
     "text": [
      "An exception occurred\n"
     ]
    }
   ],
   "source": [
    "try:\n",
    "    a=10/0\n",
    "except:\n",
    "    print(\"An exception occurred\")"
   ]
  },
  {
   "cell_type": "code",
   "execution_count": null,
   "id": "10dd657e",
   "metadata": {},
   "outputs": [],
   "source": []
  }
 ],
 "metadata": {
  "kernelspec": {
   "display_name": "Python 3 (ipykernel)",
   "language": "python",
   "name": "python3"
  },
  "language_info": {
   "codemirror_mode": {
    "name": "ipython",
    "version": 3
   },
   "file_extension": ".py",
   "mimetype": "text/x-python",
   "name": "python",
   "nbconvert_exporter": "python",
   "pygments_lexer": "ipython3",
   "version": "3.9.13"
  }
 },
 "nbformat": 4,
 "nbformat_minor": 5
}
