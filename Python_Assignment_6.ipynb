{
 "cells": [
  {
   "cell_type": "markdown",
   "id": "dd354cca",
   "metadata": {},
   "source": [
    "1) What are escape characters, and how do you use them?"
   ]
  },
  {
   "cell_type": "markdown",
   "id": "c629b33a",
   "metadata": {},
   "source": [
    "To insert characters that are illegal in a string, use an escape character. Escape characters represent characters in string values that would\n",
    "\n",
    " \\'\tSingle Quote\t"
   ]
  },
  {
   "cell_type": "code",
   "execution_count": 1,
   "id": "fe266fbc",
   "metadata": {},
   "outputs": [
    {
     "name": "stdout",
     "output_type": "stream",
     "text": [
      " Hello \"Pavan\" How are you \n"
     ]
    }
   ],
   "source": [
    "print(\" Hello \\\"Pavan\\\" How are you \")"
   ]
  },
  {
   "cell_type": "markdown",
   "id": "874b93b0",
   "metadata": {},
   "source": [
    "2. What do the escape characters n and t stand for?"
   ]
  },
  {
   "cell_type": "code",
   "execution_count": 2,
   "id": "a2e74e1b",
   "metadata": {},
   "outputs": [
    {
     "name": "stdout",
     "output_type": "stream",
     "text": [
      " line1 \n",
      " Line 2\n",
      "tab\ttab\n"
     ]
    }
   ],
   "source": [
    "#\\n is a newline; \\t is a tab.\n",
    "print(\" line1 \\n Line 2\")\n",
    "print(\"tab\\ttab\")"
   ]
  },
  {
   "cell_type": "markdown",
   "id": "4f0dc32a",
   "metadata": {},
   "source": [
    "3)What is the way to include backslash characters in a string?"
   ]
  },
  {
   "cell_type": "code",
   "execution_count": 3,
   "id": "25012048",
   "metadata": {},
   "outputs": [
    {
     "name": "stdout",
     "output_type": "stream",
     "text": [
      "Date 29\\03\\2023\n"
     ]
    }
   ],
   "source": [
    "#The \\\\ escape character will represent a backslash character.\n",
    "\n",
    "print(\"Date 29\\\\03\\\\2023\")"
   ]
  },
  {
   "cell_type": "markdown",
   "id": "8ba382a1",
   "metadata": {},
   "source": [
    "4)The string &quot;Howl&#39;s Moving Castle&quot; is a correct value. Why isn&#39;t the single quote character in the\n",
    "word Howl&#39;s not escaped a problem?"
   ]
  },
  {
   "cell_type": "code",
   "execution_count": 4,
   "id": "de5f2a8a",
   "metadata": {},
   "outputs": [
    {
     "name": "stdout",
     "output_type": "stream",
     "text": [
      "Howl's Moving Castle\n"
     ]
    }
   ],
   "source": [
    "#The single quote in Howl's is fine because here used double quotes to mark the beginning and end of the string.\n",
    "print(\"Howl's Moving Castle\" )"
   ]
  },
  {
   "cell_type": "markdown",
   "id": "a3bb51b3",
   "metadata": {},
   "source": [
    "5)How do you write a string of newlines if you don&#39;t want to use the n character?"
   ]
  },
  {
   "cell_type": "code",
   "execution_count": 5,
   "id": "81599ae1",
   "metadata": {},
   "outputs": [
    {
     "name": "stdout",
     "output_type": "stream",
     "text": [
      "\n",
      "This is first line\n",
      "This is second line\n",
      "This is third line\n",
      "\n"
     ]
    }
   ],
   "source": [
    "#Multiline strings allow you to use newlines in strings without the \\n escape character.\n",
    "\n",
    "print('''\n",
    "This is first line\n",
    "This is second line\n",
    "This is third line\n",
    "''')"
   ]
  },
  {
   "cell_type": "markdown",
   "id": "7828726b",
   "metadata": {},
   "source": [
    "6)What are the values of the given expressions?\n",
    "\n",
    "&#39;Hello, world!&#39;[1]\n",
    "\n",
    "&#39;Hello, world!&#39;[0:5]\n",
    "\n",
    "&#39;Hello, world!&#39;[:5]\n",
    "\n",
    "&#39;Hello, world!&#39;[3:]"
   ]
  },
  {
   "cell_type": "markdown",
   "id": "eca939f9",
   "metadata": {},
   "source": [
    "Outputs:\n",
    "\n",
    "'e'\n",
    "\n",
    "'Hello'\n",
    "\n",
    "'Hello'\n",
    "\n",
    "'lo world!"
   ]
  },
  {
   "cell_type": "code",
   "execution_count": 6,
   "id": "aef6b421",
   "metadata": {},
   "outputs": [
    {
     "name": "stdout",
     "output_type": "stream",
     "text": [
      "e\n",
      "Hello\n",
      "Hello\n",
      "lo, world!\n"
     ]
    }
   ],
   "source": [
    "print('Hello, world!'[1])\n",
    "print('Hello, world!'[0:5])\n",
    "print('Hello, world!'[:5])\n",
    "\n",
    "print('Hello, world!'[3:])"
   ]
  },
  {
   "cell_type": "markdown",
   "id": "31daf675",
   "metadata": {},
   "source": [
    "7)What are the values of the following expressions?\n",
    "\n",
    "&#39;Hello&#39;.upper()\n",
    "\n",
    "&#39;Hello&#39;.upper().isupper()\n",
    "\n",
    "&#39;Hello&#39;.upper().lower()"
   ]
  },
  {
   "cell_type": "markdown",
   "id": "79f00ac8",
   "metadata": {},
   "source": [
    "Outputs\n",
    "\n",
    "'HELLO'  'Hello'.upper() will convert string to upper case\n",
    "\n",
    "True     'Hello'.upper().isupper() first converts to upper case and checks whether character are upper case or not\n",
    "\n",
    "'hello'  'Hello'.upper().lower() first convert to upper case the it convert to lower case"
   ]
  },
  {
   "cell_type": "markdown",
   "id": "2852ec4b",
   "metadata": {},
   "source": [
    "8)What are the values of the following expressions?\n",
    "\n",
    "&#39;Remember, remember, the fifth of July.&#39;.split()\n",
    "\n",
    "&#39;-&#39;.join(&#39;There can only one.&#39;.split())"
   ]
  },
  {
   "cell_type": "code",
   "execution_count": 7,
   "id": "474236ff",
   "metadata": {},
   "outputs": [
    {
     "data": {
      "text/plain": [
       "['Remember,', 'remember,', 'the', 'fifth', 'of', 'July.']"
      ]
     },
     "execution_count": 7,
     "metadata": {},
     "output_type": "execute_result"
    }
   ],
   "source": [
    "'Remember, remember, the fifth of July.'.split()"
   ]
  },
  {
   "cell_type": "code",
   "execution_count": 8,
   "id": "42c7e6bf",
   "metadata": {},
   "outputs": [
    {
     "data": {
      "text/plain": [
       "'There-can-only-one.'"
      ]
     },
     "execution_count": 8,
     "metadata": {},
     "output_type": "execute_result"
    }
   ],
   "source": [
    "'-'.join('There can only one.'.split())"
   ]
  },
  {
   "cell_type": "markdown",
   "id": "6176435c",
   "metadata": {},
   "source": [
    "9)What are the methods for right-justifying, left-justifying, and centering a string?"
   ]
  },
  {
   "cell_type": "code",
   "execution_count": 9,
   "id": "eaf6256e",
   "metadata": {},
   "outputs": [
    {
     "name": "stdout",
     "output_type": "stream",
     "text": [
      "The original string is : Check 1 2 3\n",
      "The left aligned string is : \n",
      "Check 1 2 3-------------------\n",
      "The Right aligned string is : \n",
      "-------------------Check 1 2 3\n",
      "The Center aligned string is : \n",
      "---------Check 1 2 3----------\n"
     ]
    }
   ],
   "source": [
    "#The rjust(), ljust(), and center() string methods, respectively\n",
    "\n",
    "lstr = \"Check 1 2 3\"\n",
    "  \n",
    "print (\"The original string is :\", lstr)\n",
    "print (\"The left aligned string is : \")\n",
    "print (lstr.ljust(30, '-'))\n",
    "\n",
    "print (\"The Right aligned string is : \")\n",
    "print (lstr.rjust(30, '-'))\n",
    "\n",
    "print (\"The Center aligned string is : \")\n",
    "print (lstr.center(30, '-'))"
   ]
  },
  {
   "cell_type": "markdown",
   "id": "6a749e42",
   "metadata": {},
   "source": [
    "10) What is the best way to remove whitespace characters from the start or end?"
   ]
  },
  {
   "cell_type": "code",
   "execution_count": 10,
   "id": "0e683ec6",
   "metadata": {},
   "outputs": [
    {
     "name": "stdout",
     "output_type": "stream",
     "text": [
      "    Check 1 2 3    \n",
      "rstrpi is     Check 1 2 3 !\n",
      "lstrip is Check 1 2 3     !\n"
     ]
    }
   ],
   "source": [
    "#The lstrip() and rstrip() methods remove whitespace from the left and right ends of a string, respectively.\n",
    "\n",
    "lstr = \"    Check 1 2 3    \"\n",
    "print(lstr)\n",
    "print(\"rstrpi is\" ,lstr.rstrip(),\"!\")\n",
    "print(\"lstrip is\",lstr.lstrip(),\"!\")"
   ]
  },
  {
   "cell_type": "code",
   "execution_count": null,
   "id": "1a1fab2a",
   "metadata": {},
   "outputs": [],
   "source": []
  },
  {
   "cell_type": "code",
   "execution_count": null,
   "id": "d5296625",
   "metadata": {},
   "outputs": [],
   "source": []
  }
 ],
 "metadata": {
  "kernelspec": {
   "display_name": "Python 3 (ipykernel)",
   "language": "python",
   "name": "python3"
  },
  "language_info": {
   "codemirror_mode": {
    "name": "ipython",
    "version": 3
   },
   "file_extension": ".py",
   "mimetype": "text/x-python",
   "name": "python",
   "nbconvert_exporter": "python",
   "pygments_lexer": "ipython3",
   "version": "3.9.13"
  }
 },
 "nbformat": 4,
 "nbformat_minor": 5
}
