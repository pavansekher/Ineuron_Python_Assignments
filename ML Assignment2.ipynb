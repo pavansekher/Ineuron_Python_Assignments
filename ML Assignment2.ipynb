{
 "cells": [
  {
   "cell_type": "markdown",
   "id": "f76be9fe",
   "metadata": {},
   "source": [
    "1. What is the concept of human learning? Please give two examples."
   ]
  },
  {
   "cell_type": "markdown",
   "id": "3b20df2a",
   "metadata": {},
   "source": [
    "Human learning is the form of learning which requires higher order mental processes like thinking, reasoning, intelligence, etc.We learn different concepts from childhood. For example:\n",
    "\n",
    "Learning through Association - Classical Conditioning.\n",
    "Learning through consequences – Operant Conditioning.\n",
    "Learning through observation – Modeling/Observational Learning."
   ]
  },
  {
   "cell_type": "markdown",
   "id": "88400f2c",
   "metadata": {},
   "source": [
    "2. What different forms of human learning are there? Are there any machine learning equivalents?"
   ]
  },
  {
   "cell_type": "markdown",
   "id": "a2a3230a",
   "metadata": {},
   "source": [
    "Different Forms of ML are as follows :\n",
    "\n",
    "Artificial Intelligence Learning Theories. Machine Learning. Reinforcement Learning. Supervised Learning. Unsupervised Learning.\n",
    "ML equivalents like Linear regression, decision trees, random forest and support vector machines are some commonly used techniques that are actually examples of supervised learning."
   ]
  },
  {
   "cell_type": "markdown",
   "id": "38081566",
   "metadata": {},
   "source": [
    "3. What is machine learning, and how does it work? What are the key responsibilities of machine\n",
    "learning?"
   ]
  },
  {
   "cell_type": "markdown",
   "id": "9513ae32",
   "metadata": {},
   "source": [
    "Machine learning is a branch of Artificial intelligence (AI) that teaches computers on how to think in a similar way to how humans do, like by Learning and improving upon past experiences.\n",
    "\n",
    "It works by exploring data and identifying patterns, and involves minimal human intervention.\n",
    "Roles and responsibilities of a machine learning engineer are:\n",
    "\n",
    "Designing ML systems.\n",
    "Researching and implementing ML algorithms and tools. Selecting appropriate data sets.\n",
    "Picking appropriate data representation methods. Identifying differences in data distribution that affects model performance. Verifying data quality."
   ]
  },
  {
   "cell_type": "markdown",
   "id": "0dff55be",
   "metadata": {},
   "source": [
    "4. Define the terms &quot;penalty&quot; and &quot;reward&quot; in the context of reinforcement learning."
   ]
  },
  {
   "cell_type": "markdown",
   "id": "3a318ada",
   "metadata": {},
   "source": [
    " A Reinforcement Learning Algorithm, which may also be referred to as an agent, learns by interacting with its environment. The agent receives rewards by performing correctly and penalties for performing incorrectly. The agent learns without intervention from a human by maximizing its reward and minimizing its penalty."
   ]
  },
  {
   "cell_type": "markdown",
   "id": "19233531",
   "metadata": {},
   "source": [
    "5. Explain the term &quot;learning as a search&quot;?"
   ]
  },
  {
   "cell_type": "markdown",
   "id": "a1cf6895",
   "metadata": {},
   "source": [
    "Learning can be viewed as a search through the space of all sentences in a concept description language for a sentence that best describes the data. Alternatively, it can be viewed as a search through all hypotheses in a hypothesis space."
   ]
  },
  {
   "cell_type": "markdown",
   "id": "a4ea3053",
   "metadata": {},
   "source": [
    " 6)What are the various goals of machine learning? What is the relationship between these and\n",
    "human learning?"
   ]
  },
  {
   "cell_type": "markdown",
   "id": "c2b64cf8",
   "metadata": {},
   "source": [
    "The Goal of machine learning, closely coupled with the goal of AI, is to achieve a through understanding about the nature of learning process (both human learning and other forms of learning), about the computational aspects of learning behaviors, and to implant the learning capability in computer systems.\n",
    "\n",
    "Humans have the ability to learn, however with the progress in artificial intelligence, machine learning has become a resource which can augment or even replace human learning. Learning does not happen all at once, but it builds upon and is shaped by previous knowledge."
   ]
  },
  {
   "cell_type": "markdown",
   "id": "c670e4e2",
   "metadata": {},
   "source": [
    "7. Illustrate the various elements of machine learning using a real-life illustration."
   ]
  },
  {
   "cell_type": "markdown",
   "id": "cc84cb82",
   "metadata": {},
   "source": [
    "The Various elements of the the Machine Learning are:\n",
    "\n",
    "Data,\n",
    "Task,\n",
    "Model,\n",
    "Loss Function,\n",
    "Learning Algorithm,\n",
    "Evaluation"
   ]
  },
  {
   "cell_type": "markdown",
   "id": "13fb2967",
   "metadata": {},
   "source": [
    "8. Provide an example of the abstraction method."
   ]
  },
  {
   "cell_type": "markdown",
   "id": "e7583f59",
   "metadata": {},
   "source": [
    " In Machine Learning, Abstraction is supported primarily at the level of modules. This can be justified in two ways: first, Data abstraction is mostly a question of program interfaces and therefore it arises naturally at the point where we have to consider program composition and modules."
   ]
  },
  {
   "cell_type": "markdown",
   "id": "4b197143",
   "metadata": {},
   "source": [
    "9. What is the concept of generalization? What function does it play in the machine learning\n",
    "process? What is classification, exactly? "
   ]
  },
  {
   "cell_type": "markdown",
   "id": "f7c5128b",
   "metadata": {},
   "source": [
    "Generalization refers to your model's ability to adapt properly to new, previously unseen data, drawn from the same distribution as the one used to create the model.\n",
    "\n",
    "In machine learning, generalization is a definition to demonstrate how well is a trained model to classify or forecast unseen data.This issue can result to classify an actual dog image as a cat from the unseen dataset. Therefore, data diversity is very important factor in order to make a good prediction."
   ]
  },
  {
   "cell_type": "markdown",
   "id": "b363544e",
   "metadata": {},
   "source": [
    "10. What is classification, exactly? What are the main distinctions between classification and regression?"
   ]
  },
  {
   "cell_type": "markdown",
   "id": "083871f5",
   "metadata": {},
   "source": [
    " In Machine Learning, Classification refers to a predictive modeling problem where a class label is predicted for a given example of input data.Classification is the task of predicting a discrete class label. Whereas Regression is the task of predicting a continuous quantity."
   ]
  },
  {
   "cell_type": "markdown",
   "id": "e0af5375",
   "metadata": {},
   "source": [
    "What is regression, and how does it work? Give an example of a real-world problem that was\n",
    "solved using regression."
   ]
  },
  {
   "cell_type": "markdown",
   "id": "af63958d",
   "metadata": {},
   "source": [
    " Regression is a Supervised Machine Learning technique which is used to predict continuous values. The ultimate goal of a regression algorithm is to plot a best-fit line or a curve between the data.\n",
    "\n",
    "The three main metrics that are used for evaluating the trained regression model are Variance, Bias and Error.\n",
    "\n",
    "A simple linear regression real life example could mean you finding a relationship between the revenue and temperature, with a sample size for revenue as the dependent variable. In case of multiple variable regression, you can find the relationship between temperature, pricing and number of workers to the revenue."
   ]
  },
  {
   "cell_type": "markdown",
   "id": "a5f67006",
   "metadata": {},
   "source": [
    "12. Describe the clustering mechanism in detail."
   ]
  },
  {
   "cell_type": "code",
   "execution_count": null,
   "id": "b73b5d02",
   "metadata": {},
   "outputs": [],
   "source": []
  }
 ],
 "metadata": {
  "kernelspec": {
   "display_name": "Python 3 (ipykernel)",
   "language": "python",
   "name": "python3"
  },
  "language_info": {
   "codemirror_mode": {
    "name": "ipython",
    "version": 3
   },
   "file_extension": ".py",
   "mimetype": "text/x-python",
   "name": "python",
   "nbconvert_exporter": "python",
   "pygments_lexer": "ipython3",
   "version": "3.9.13"
  }
 },
 "nbformat": 4,
 "nbformat_minor": 5
}
