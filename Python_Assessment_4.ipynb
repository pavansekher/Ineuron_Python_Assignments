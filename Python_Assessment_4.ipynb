{
 "cells": [
  {
   "cell_type": "markdown",
   "id": "08596fe8",
   "metadata": {},
   "source": [
    "1) What exactly is []?"
   ]
  },
  {
   "cell_type": "markdown",
   "id": "416512c9",
   "metadata": {},
   "source": [
    "The empty list value, which is a list value that contains no items. "
   ]
  },
  {
   "cell_type": "markdown",
   "id": "6d51dbd9",
   "metadata": {},
   "source": [
    " "
   ]
  },
  {
   "cell_type": "markdown",
   "id": "423c9a61",
   "metadata": {},
   "source": [
    "2) In a list of values stored in a variable called spam, how would you assign the value &#39;hello&#39; as the\n",
    "third value? (Assume [2, 4, 6, 8, 10] are in spam.)"
   ]
  },
  {
   "cell_type": "code",
   "execution_count": 1,
   "id": "eb02beac",
   "metadata": {},
   "outputs": [
    {
     "data": {
      "text/plain": [
       "[2, 4, 'hello', 8, 10]"
      ]
     },
     "execution_count": 1,
     "metadata": {},
     "output_type": "execute_result"
    }
   ],
   "source": [
    "spam=[2,4,6,8,10]\n",
    "spam[2]='hello'\n",
    "spam"
   ]
  },
  {
   "cell_type": "markdown",
   "id": "e2e3b480",
   "metadata": {},
   "source": [
    "For the following three questions, let's say spam contains the list ['a', 'b', 'c', 'd'].\n",
    "\n",
    "\n",
    "3) What does spam[int(int('3' * 2) // 11)] evaluate to?"
   ]
  },
  {
   "cell_type": "markdown",
   "id": "ff245b7f",
   "metadata": {},
   "source": [
    "'3' * 2 is the string '33', which is passed to int() before being divided by 11. \n",
    "\n",
    "33/11=3\n",
    "\n",
    "spam[3]=d"
   ]
  },
  {
   "cell_type": "code",
   "execution_count": 2,
   "id": "f1ff053f",
   "metadata": {},
   "outputs": [
    {
     "data": {
      "text/plain": [
       "'d'"
      ]
     },
     "execution_count": 2,
     "metadata": {},
     "output_type": "execute_result"
    }
   ],
   "source": [
    "spam=['a','b','c','d']\n",
    "spam[int(int('3' * 2) // 11)]"
   ]
  },
  {
   "cell_type": "markdown",
   "id": "7a11ff3b",
   "metadata": {},
   "source": [
    "4) What is the value of spam[-1]?"
   ]
  },
  {
   "cell_type": "code",
   "execution_count": 3,
   "id": "45906560",
   "metadata": {},
   "outputs": [
    {
     "data": {
      "text/plain": [
       "'d'"
      ]
     },
     "execution_count": 3,
     "metadata": {},
     "output_type": "execute_result"
    }
   ],
   "source": [
    "#'d'will be output (Negative indexes count starts from end. It prints last index value)\n",
    "spam[-1]"
   ]
  },
  {
   "cell_type": "raw",
   "id": "6ce085a3",
   "metadata": {},
   "source": [
    "5) What is the value of spam[:2]?"
   ]
  },
  {
   "cell_type": "code",
   "execution_count": 4,
   "id": "a9fc3cf5",
   "metadata": {},
   "outputs": [
    {
     "data": {
      "text/plain": [
       "['a', 'b']"
      ]
     },
     "execution_count": 4,
     "metadata": {},
     "output_type": "execute_result"
    }
   ],
   "source": [
    "#This will print first 2 index values .i.e spam[0] \n",
    "spam[:2]"
   ]
  },
  {
   "cell_type": "markdown",
   "id": "c9011c5e",
   "metadata": {},
   "source": [
    "For the following three questions, let's say bacon contains the list [3.14, 'cat', 11, 'cat', True].\n",
    "\n",
    "6)What is the value of bacon.index(cat)?"
   ]
  },
  {
   "cell_type": "code",
   "execution_count": 5,
   "id": "19ef272e",
   "metadata": {},
   "outputs": [
    {
     "data": {
      "text/plain": [
       "1"
      ]
     },
     "execution_count": 5,
     "metadata": {},
     "output_type": "execute_result"
    }
   ],
   "source": [
    "#This will print first index of 'cat'\n",
    "bacon=[3.14, 'cat', 11, 'cat', True]\n",
    "bacon.index('cat')"
   ]
  },
  {
   "cell_type": "markdown",
   "id": "fc9f0bf4",
   "metadata": {},
   "source": [
    "7)How does bacon.append(99) change the look of the list value in bacon?"
   ]
  },
  {
   "cell_type": "code",
   "execution_count": 6,
   "id": "aeecff27",
   "metadata": {},
   "outputs": [
    {
     "data": {
      "text/plain": [
       "[3.14, 'cat', 11, 'cat', True, 99]"
      ]
     },
     "execution_count": 6,
     "metadata": {},
     "output_type": "execute_result"
    }
   ],
   "source": [
    "#99 will be add to the list bacon\n",
    "\n",
    "bacon.append(99)\n",
    "bacon"
   ]
  },
  {
   "cell_type": "markdown",
   "id": "5edcfa0b",
   "metadata": {},
   "source": [
    "8)How does bacon.remove(cat) change the look of the list in bacon?"
   ]
  },
  {
   "cell_type": "code",
   "execution_count": 7,
   "id": "c80fab64",
   "metadata": {},
   "outputs": [
    {
     "data": {
      "text/plain": [
       "[3.14, 11, 'cat', True, 99]"
      ]
     },
     "execution_count": 7,
     "metadata": {},
     "output_type": "execute_result"
    }
   ],
   "source": [
    "#This will remove the first index cat variable from bacon .i.e bacon[1] and bacon[3] will not removed even value is cat\n",
    "bacon.remove('cat')\n",
    "bacon"
   ]
  },
  {
   "cell_type": "markdown",
   "id": "4cea6fd9",
   "metadata": {},
   "source": [
    "9)What are the list concatenation and list replication operators?"
   ]
  },
  {
   "cell_type": "markdown",
   "id": "e0624cab",
   "metadata": {},
   "source": [
    "The operator for list concatenation is +, while the operator for replication is *."
   ]
  },
  {
   "cell_type": "code",
   "execution_count": 8,
   "id": "e5ba2cf6",
   "metadata": {},
   "outputs": [
    {
     "name": "stdout",
     "output_type": "stream",
     "text": [
      "List Concatenation [1, 2, 3, 1, 2, 3] \n",
      "List replication [1, 2, 3, 1, 2, 3, 1, 2, 3, 1, 2, 3, 1, 2, 3]\n"
     ]
    }
   ],
   "source": [
    "a=[1,2,3]\n",
    "print(f\"List Concatenation {a + a} \")\n",
    "b=[]\n",
    "b=a*5\n",
    "print(f\"List replication {b}\")    "
   ]
  },
  {
   "cell_type": "code",
   "execution_count": null,
   "id": "e335f9aa",
   "metadata": {},
   "outputs": [],
   "source": []
  },
  {
   "cell_type": "markdown",
   "id": "8094eb11",
   "metadata": {},
   "source": [
    "10)What is difference between the list methods append() and insert()?"
   ]
  },
  {
   "cell_type": "markdown",
   "id": "f4e05b53",
   "metadata": {},
   "source": [
    "append() will add values only to the end of a list, insert() can add them anywhere in the list."
   ]
  },
  {
   "cell_type": "code",
   "execution_count": 9,
   "id": "c1a89acc",
   "metadata": {},
   "outputs": [
    {
     "data": {
      "text/plain": [
       "[1, 2, 3, 4, 5, 'p']"
      ]
     },
     "execution_count": 9,
     "metadata": {},
     "output_type": "execute_result"
    }
   ],
   "source": [
    "a=[1,3,4,5]\n",
    "a.append('p')\n",
    "a\n",
    "a.insert(1,2)\n",
    "a"
   ]
  },
  {
   "cell_type": "markdown",
   "id": "fcb9b803",
   "metadata": {},
   "source": [
    "11)What are the two methods for removing items from a list?"
   ]
  },
  {
   "cell_type": "markdown",
   "id": "701e1a76",
   "metadata": {},
   "source": [
    "The del statement and the remove() list method are two ways to remove values from a list"
   ]
  },
  {
   "cell_type": "code",
   "execution_count": 10,
   "id": "a4989385",
   "metadata": {},
   "outputs": [
    {
     "name": "stdout",
     "output_type": "stream",
     "text": [
      "['a', 'b', 'd']\n"
     ]
    },
    {
     "data": {
      "text/plain": [
       "['a', 'd']"
      ]
     },
     "execution_count": 10,
     "metadata": {},
     "output_type": "execute_result"
    }
   ],
   "source": [
    "a=['a','b','c','d']\n",
    "del a[2]\n",
    "print(a)\n",
    "a.remove('b')\n",
    "a"
   ]
  },
  {
   "cell_type": "markdown",
   "id": "fb047881",
   "metadata": {},
   "source": [
    "12)Describe how list values and string values are identical."
   ]
  },
  {
   "cell_type": "markdown",
   "id": "8de9c639",
   "metadata": {},
   "source": [
    "Both have indexes and slices\n",
    "\n",
    "Both lists and strings can be passed to len() function\n",
    "\n",
    "Both used in for loops\n",
    "\n",
    "Both can perform concatenated or replicated\n",
    "\n",
    "Both used with the in and not in operators."
   ]
  },
  {
   "cell_type": "markdown",
   "id": "91a1a34d",
   "metadata": {},
   "source": [
    " "
   ]
  },
  {
   "cell_type": "markdown",
   "id": "4cd1467a",
   "metadata": {},
   "source": [
    "13)What&#39;s the difference between tuples and lists?"
   ]
  },
  {
   "cell_type": "markdown",
   "id": "76d0a8f7",
   "metadata": {},
   "source": [
    "Lists are mutable they can have values added, removed, or changed. \n",
    "\n",
    "Tuples are immutable; they cannot be changed at all.\n",
    "\n",
    "Also, tuples are written using parentheses (), while lists use the square brackets[]"
   ]
  },
  {
   "cell_type": "markdown",
   "id": "95b8cfcb",
   "metadata": {},
   "source": [
    " "
   ]
  },
  {
   "cell_type": "markdown",
   "id": "f03a1881",
   "metadata": {},
   "source": [
    "14) How do you type a tuple value that only contains the integer 42?"
   ]
  },
  {
   "cell_type": "markdown",
   "id": "573638ba",
   "metadata": {},
   "source": [
    "(42,) (The trailing comma is mandatory)"
   ]
  },
  {
   "cell_type": "markdown",
   "id": "80e9a849",
   "metadata": {},
   "source": [
    " "
   ]
  },
  {
   "cell_type": "markdown",
   "id": "073ed3db",
   "metadata": {},
   "source": [
    "15)How do you get a list value's tuple form? How do you get a tuple value's list form?"
   ]
  },
  {
   "cell_type": "code",
   "execution_count": 11,
   "id": "e83eb4fb",
   "metadata": {},
   "outputs": [
    {
     "name": "stdout",
     "output_type": "stream",
     "text": [
      "<class 'tuple'>\n",
      "<class 'list'>\n",
      "<class 'tuple'>\n"
     ]
    }
   ],
   "source": [
    "#Using tuple() and list() functions, respectively\n",
    "a=(1,2)\n",
    "print(type(a))\n",
    "a=list(a)\n",
    "print(type(a))\n",
    "a=tuple(a)\n",
    "print(type(a))"
   ]
  },
  {
   "cell_type": "markdown",
   "id": "7187ebd1",
   "metadata": {},
   "source": [
    "16)Variables that &quot;contain&quot; list values are not necessarily lists themselves. Instead, what do they\n",
    "contain?"
   ]
  },
  {
   "cell_type": "markdown",
   "id": "870df9b9",
   "metadata": {},
   "source": [
    "They contain references to list values."
   ]
  },
  {
   "cell_type": "markdown",
   "id": "789b9cd7",
   "metadata": {},
   "source": [
    "17)How do you distinguish between copy.copy() and copy.deepcopy()?"
   ]
  },
  {
   "cell_type": "markdown",
   "id": "7de57e9b",
   "metadata": {},
   "source": [
    "The copy.copy() function will do a shallow copy of a list, while the copy.deepcopy() function will do a deep copy of a list. That is, only copy.deepcopy() will duplicate any lists inside the list."
   ]
  },
  {
   "cell_type": "code",
   "execution_count": null,
   "id": "2ae2b793",
   "metadata": {},
   "outputs": [],
   "source": [
    "\n"
   ]
  },
  {
   "cell_type": "code",
   "execution_count": null,
   "id": "a4350d19",
   "metadata": {},
   "outputs": [],
   "source": []
  }
 ],
 "metadata": {
  "kernelspec": {
   "display_name": "Python 3 (ipykernel)",
   "language": "python",
   "name": "python3"
  },
  "language_info": {
   "codemirror_mode": {
    "name": "ipython",
    "version": 3
   },
   "file_extension": ".py",
   "mimetype": "text/x-python",
   "name": "python",
   "nbconvert_exporter": "python",
   "pygments_lexer": "ipython3",
   "version": "3.9.13"
  }
 },
 "nbformat": 4,
 "nbformat_minor": 5
}
